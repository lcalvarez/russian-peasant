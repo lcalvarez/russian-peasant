{
 "cells": [
  {
   "cell_type": "markdown",
   "metadata": {},
   "source": [
    "## The russian peasant algorithm is an algorithm that takes\n",
    "\n",
    "## two integers: $a \\ \\& \\ b$ and finds their product by continously\n",
    "\n",
    "## performing $\\frac{a}{2}$ and  $b*2$ such that\n",
    "\n",
    "## when $a = 1$ all such occurrences of\n",
    "\n",
    "## integer $b$ that map to ODD values of $a$ are summed\n",
    "\n",
    "## and equivalent to $a*b$\n",
    "\n",
    "-----------------------------\n",
    "\n",
    "## Consider the following example:\n",
    "\n",
    "## $8*8=64$ but it can be formulated as\n",
    "\n",
    "$$8\\quad*\\quad8$$\n",
    "\n",
    "## Now perform the algorithm and we have\n",
    "\n",
    "$$8\\quad*\\quad8$$\n",
    "$$4\\quad*\\quad16$$\n",
    "$$2\\quad*\\quad32$$\n",
    "$$1\\quad*\\quad64$$\n",
    "\n",
    "## which after looking at all the numbers on the\n",
    "## right and what they correspond to, only the value\n",
    "## 1 maps to 64, which is the correct answer."
   ]
  },
  {
   "cell_type": "markdown",
   "metadata": {},
   "source": [
    "## We can now create these functions iteratively and recursively."
   ]
  },
  {
   "cell_type": "code",
   "execution_count": 1,
   "metadata": {
    "collapsed": true
   },
   "outputs": [],
   "source": [
    "def russian_peasant_iterative(a,b):\n",
    "    \"\"\"\n",
    "    Assuming that a and b are always int, calculate the\n",
    "    product of a and b using the russian peasant algorithm\n",
    "    doing so iteratively.\n",
    "    \n",
    "    Parameters:\n",
    "    a -- integer to multiply b by\n",
    "    b --integer to multiply a by\n",
    "    \n",
    "    Returns:\n",
    "    Integer result of a * b\n",
    "    \"\"\"\n",
    "    \n",
    "    # If any parameter is 0, return 0\n",
    "    sum_algo = 0\n",
    "    if a == 0 or b == 0:\n",
    "        return sum_algo\n",
    "    \n",
    "    # Perform algorithm iteratively\n",
    "    while (a >= 1):\n",
    "        if a % 2 == 1:\n",
    "            sum_algo += b\n",
    "        a /= 2; b *= 2\n",
    "        \n",
    "    return sum_algo"
   ]
  },
  {
   "cell_type": "code",
   "execution_count": 2,
   "metadata": {
    "collapsed": false
   },
   "outputs": [],
   "source": [
    "def russian_peasant_recursive(a,b):\n",
    "    \"\"\"\n",
    "    Assuming that a and b are always int, calculate the\n",
    "    product of a and b using the russian peasant algorithm\n",
    "    doing so recursively.\n",
    "    \n",
    "    Parameters:\n",
    "    a -- integer to multiply b by\n",
    "    b --integer to multiply a by\n",
    "    \n",
    "    Returns:\n",
    "    Integer result of a * b\n",
    "    \"\"\"\n",
    "    \n",
    "    # If any parameter is 0, return 0\n",
    "    sum_algo = 0\n",
    "    if a == 0 or b == 0:\n",
    "        return sum_algo\n",
    "    \n",
    "    # Perform algorithm recursively\n",
    "    if a % 2 == 1:\n",
    "        sum_algo += b\n",
    "    if a == 1:\n",
    "        return sum_algo\n",
    "    else:\n",
    "        return sum_algo + russian_peasant_recursive(a/2,b*2)"
   ]
  },
  {
   "cell_type": "markdown",
   "metadata": {},
   "source": [
    "## Now we can test both to see if both functions return equivalent results. "
   ]
  },
  {
   "cell_type": "code",
   "execution_count": 3,
   "metadata": {
    "collapsed": false
   },
   "outputs": [
    {
     "name": "stdout",
     "output_type": "stream",
     "text": [
      "Success!\n"
     ]
    }
   ],
   "source": [
    "import numpy\n",
    "# Now we can test by performing a stochastic operation\n",
    "# on pairs of random integers doing a double list\n",
    "# comprehension. Note that there are 10,000 entries.\n",
    "test_result = [russian_peasant_iterative(x,y)==russian_peasant_recursive(x,y) \n",
    "               for x in numpy.random.randint(0,100, size=100)\n",
    "               for y in numpy.random.randint(0,100, size=100)]\n",
    "\n",
    "# If there are any inconsistencies, a simple check\n",
    "# within the array for False will suffice.\n",
    "if False in test_result:\n",
    "    print \"The tests resulted in inconsistent results.\"\n",
    "else:\n",
    "    print \"Success!\""
   ]
  },
  {
   "cell_type": "code",
   "execution_count": null,
   "metadata": {
    "collapsed": true
   },
   "outputs": [],
   "source": []
  }
 ],
 "metadata": {
  "kernelspec": {
   "display_name": "Python 2",
   "language": "python",
   "name": "python2"
  },
  "language_info": {
   "codemirror_mode": {
    "name": "ipython",
    "version": 2
   },
   "file_extension": ".py",
   "mimetype": "text/x-python",
   "name": "python",
   "nbconvert_exporter": "python",
   "pygments_lexer": "ipython2",
   "version": "2.7.11"
  }
 },
 "nbformat": 4,
 "nbformat_minor": 0
}
